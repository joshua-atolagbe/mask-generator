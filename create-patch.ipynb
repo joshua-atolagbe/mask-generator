{
 "cells": [
  {
   "attachments": {},
   "cell_type": "markdown",
   "metadata": {},
   "source": [
    "# Create 2D Seismic Patches from Seismic Volume"
   ]
  },
  {
   "cell_type": "code",
   "execution_count": 1,
   "metadata": {},
   "outputs": [],
   "source": [
    "import numpy as np\n",
    "import segyio\n",
    "import random\n",
    "import string\n",
    "from matplotlib import pyplot as plt\n",
    "from PIL import Image\n",
    "from pathlib import Path \n",
    "from ipywidgets import widgets, interact, ToggleButtons, IntSlider\n",
    "\n",
    "\n",
    "def createPatches(filename:str|Path, image_name:str, type:str, patch_size:slice):#, cmap:str, preview:bool):\n",
    "    \n",
    "\n",
    "    def segy2numpy(filename:str|Path) -> np.array:\n",
    "        with segyio.open(filename) as f:\n",
    "            return segyio.tools.cube(f).transpose(2, 1, 0)\n",
    "    \n",
    "\n",
    "    def extractAlgo(image_name:str, patch_size:tuple):\n",
    "\n",
    "        start = 0\n",
    "        step = patch_size[0]\n",
    "\n",
    "        if Path(f'data/{type}/images').exists():\n",
    "            pass\n",
    "        else:\n",
    "            Path(f'data/{type}/images').mkdir()\n",
    "            \n",
    "        image = np.array(Image.open('data/'+image_name+'.png'))\n",
    "\n",
    "        for row in range(start, image.shape[0], step):\n",
    "            if ((row+step) > image.shape[0]):\n",
    "                break\n",
    "            for column in range(start, image.shape[1], step):\n",
    "                if ((column+step) > image.shape[1]):\n",
    "                    break\n",
    "                image_arr = image[row:row+step, column:column+step, :]\n",
    "                patchname = ''.join(random.choices(\n",
    "                    string.ascii_lowercase + string.digits, k=20)) + '.png'\n",
    "\n",
    "                image_patch = Image.fromarray(image_arr[:, :, :3])\n",
    "                    \n",
    "                image_patch.save(f'data/{type}/images/'+patchname)\n",
    "\n",
    "    # Interactive display   \n",
    "    seismic = segy2numpy(filename)\n",
    "    \n",
    "    max = seismic.shape[2] - 1\n",
    "    cmap = ['PuOr_r', 'gray', 'cubehelix', 'cubehelix', 'jet', 'plasma', 'inferno', 'seismic_r']\n",
    "    slice = ToggleButtons(description='Slice options', button_style='primary', options=['IL', 'XL', 'ZL'])\n",
    "    id = IntSlider(description='Slice number', value=0, min=0, max=max, step=10)\n",
    "    cmap = ToggleButtons(description='Colormaps', button_style='primary', options=np.unique(cmap))\n",
    "    preview = ToggleButtons(description='Preview options', button_style='primary', options=[True, False])\n",
    "    \n",
    "    vmin = widgets.FloatSlider(value=np.min(seismic), min=np.min(seismic), \n",
    "                             max=np.amax(seismic))\n",
    "    \n",
    "    vmax = widgets.FloatSlider(value=np.max(seismic), min=np.min(seismic), \n",
    "                             max=np.max(seismic))\n",
    "\n",
    "    @interact\n",
    "    def preview_extract(slice=slice, id=id, cmap=cmap, preview=preview, vmin=vmin, vmax=vmax):\n",
    "\n",
    "        if preview:\n",
    "            \n",
    "            plt.figure(figsize=(50, 10))\n",
    "\n",
    "            if slice == 'IL':\n",
    "                plt.imshow(seismic[:, :, id], cmap=cmap, vmin=vmin, vmax=vmax, interpolation='bicubic')\n",
    "                \n",
    "            elif slice == 'XL':\n",
    "                plt.imshow(seismic[:, id, :], cmap=cmap, vmin=vmin, vmax=vmax, interpolation='bicubic')\n",
    "\n",
    "            elif slice =='ZL':\n",
    "                plt.imshow(seismic[id, :, :], cmap=cmap, vmin=vmin, vmax=vmax, interpolation='bicubic')\n",
    "            \n",
    "            plt.axis('off')\n",
    "            plt.savefig('data/'+image_name+'.png', bbox_inches='tight', pad_inches=0.)\n",
    "\n",
    "        else:\n",
    "            print('Image Patches extraction started...')\n",
    "            print('*'*30)\n",
    "\n",
    "            extractAlgo(image_name, patch_size=patch_size)\n",
    "\n",
    "            print('*'*30)\n",
    "            print('Image Patches extraction completed...')\n"
   ]
  },
  {
   "cell_type": "code",
   "execution_count": 2,
   "metadata": {},
   "outputs": [
    {
     "name": "stderr",
     "output_type": "stream",
     "text": [
      "/home/mayorofgeology/.local/lib/python3.10/site-packages/traitlets/traitlets.py:697: FutureWarning: elementwise comparison failed; returning scalar instead, but in the future will perform elementwise comparison\n",
      "  silent = bool(old_value == new_value)\n"
     ]
    },
    {
     "data": {
      "application/vnd.jupyter.widget-view+json": {
       "model_id": "5e21eb6f31324632ab263a8a8bf39c6f",
       "version_major": 2,
       "version_minor": 0
      },
      "text/plain": [
       "interactive(children=(ToggleButtons(button_style='primary', description='Slice options', options=('IL', 'XL', …"
      ]
     },
     "metadata": {},
     "output_type": "display_data"
    }
   ],
   "source": [
    "# from create_patches import createPatches\n",
    "createPatches(filename='data/F3.segy', image_name='image', type='test', patch_size=(128, 128))\n"
   ]
  },
  {
   "attachments": {},
   "cell_type": "markdown",
   "metadata": {},
   "source": [
    "# Seismic Attributes for creating masks"
   ]
  },
  {
   "cell_type": "code",
   "execution_count": 35,
   "metadata": {},
   "outputs": [],
   "source": [
    "def attrComp(data, attri_type:str, threshold:int|float, kernel:tuple, noise:str):\n",
    "    \n",
    "    '''\n",
    "    \n",
    "    This module helps to apply noise reduction algorithm on 2D seismic before computing seismic attributes\n",
    "    for creating seismic masks\n",
    "    '''\n",
    "    import sys\n",
    "    sys.path.append('./attributes')\n",
    "    \n",
    "    from attributes.CompleTrace import ComplexAttributes\n",
    "    from attributes.SignalProcess import SignalProcess\n",
    "    from attributes.NoiseReduction import NoiseReduction\n",
    "\n",
    "    import numpy as np\n",
    "    \n",
    "    def makeDask(darray, kernel, attri_type, noise):\n",
    "\n",
    "        def noise_reduction(darray, noise):\n",
    "\n",
    "            #apply noise reduction algo\n",
    "            n = NoiseReduction()\n",
    "            narray, _ = NoiseReduction.create_array(n, darray, kernel=None, preview=None)\n",
    "            narray = narray.T.rechunk('auto')\n",
    "\n",
    "            if noise == 'gaussian':\n",
    "                nresult = NoiseReduction.gaussian(n, narray, preview=None)\n",
    "                nresult = nresult.T\n",
    "\n",
    "            if noise == 'median':\n",
    "                nresult = NoiseReduction.median(n, narray, preview=None)\n",
    "                nresult = nresult.T\n",
    "\n",
    "            if noise == 'convolution':\n",
    "                nresult = NoiseReduction.convolution(n, narray, preview=None)\n",
    "                nresult = nresult.T\n",
    "\n",
    "            return nresult\n",
    "        \n",
    "        #denoised seismic array\n",
    "        narray = noise_reduction(darray, noise)\n",
    "        \n",
    "        #make dask array for attribute computation\n",
    "        if attri_type == 'rms' or attri_type == 'reflin' or attri_type == 'timegain' or attri_type == 'fder'\\\n",
    "            or attri_type == 'sder' or attri_type == 'gradmag':\n",
    "            \n",
    "            x = SignalProcess()\n",
    "            darray, chunks_init = SignalProcess.create_array(x, narray, kernel, preview=None)\n",
    "            darray = darray.T\n",
    "                \n",
    "            return (x, darray, narray)\n",
    "        \n",
    "        if attri_type == 'sweetness' or attri_type == 'infreq' or attri_type == 'enve' or attri_type == 'inphase'\\\n",
    "            or attri_type == 'cosphase' or attri_type == 'ampcontrast' or attri_type == 'ampacc' or \\\n",
    "            attri_type == 'inband' or attri_type == 'domfreq' or attri_type == 'apolar' or attri_type == 'resamp'\\\n",
    "            or attri_type == 'resfreq' or attri_type == 'resphase':\n",
    "\n",
    "            x = ComplexAttributes()\n",
    "            darray, chunks_init = ComplexAttributes.create_array(x, narray, kernel, preview=None)\n",
    "            darray = darray.T\n",
    "            \n",
    "            return (x, darray, narray)\n",
    "    \n",
    "    def compute(x, darray, attri_type):\n",
    "        \n",
    "        '''\n",
    "        Computes the seismic attribute\n",
    "        '''\n",
    "\n",
    "        if attri_type == 'reflin':\n",
    "            result = SignalProcess.reflection_intensity(x, darray, preview=None)\n",
    "            return result\n",
    "\n",
    "        if attri_type == 'enve':\n",
    "            result = ComplexAttributes.envelope(x, darray, preview=None)\n",
    "            return result\n",
    "        \n",
    "        if attri_type == 'sweetness':\n",
    "            result = ComplexAttributes.sweetness(x, darray, preview=None)\n",
    "            return result\n",
    "        \n",
    "        if attri_type == 'infreq':\n",
    "            result = ComplexAttributes.instantaneous_frequency(x, darray, preview=None)\n",
    "            return result\n",
    "        \n",
    "        if attri_type == 'fder':\n",
    "            result = SignalProcess.first_derivative(x, darray, axis=-1, preview=None)\n",
    "            return result\n",
    "      \n",
    "        if attri_type == 'sder':\n",
    "            result = SignalProcess.second_derivative(x, darray, axis=-1, preview=None)\n",
    "            return result\n",
    "        \n",
    "        if attri_type == 'rms':\n",
    "            result = SignalProcess.rms(x, darray, kernel=(1, 1, 9), preview=None)\n",
    "            return result\n",
    "\n",
    "        if attri_type == 'timegain':\n",
    "            result = SignalProcess.time_gain(x, darray, preview=None)\n",
    "            return result\n",
    "        \n",
    "        if attri_type == 'gradmag':\n",
    "            result = SignalProcess.gradient_magnitude(x, darray, sigmas=(1,1,1), preview=None)\n",
    "            return result\n",
    "        \n",
    "        if attri_type == 'inphase':\n",
    "            result = ComplexAttributes.instantaneous_phase(x, darray, preview=None)   \n",
    "            return result\n",
    "\n",
    "        if attri_type == 'cosphase':\n",
    "            result = ComplexAttributes.cosine_instantaneous_phase(x, darray, preview=None)   \n",
    "            return result\n",
    "\n",
    "        if attri_type == 'ampcontrast':\n",
    "            result = ComplexAttributes.relative_amplitude_change(x, darray, preview=None)\n",
    "            return result\n",
    "\n",
    "        if attri_type == 'ampacc':\n",
    "            result = ComplexAttributes.amplitude_acceleration(x, darray, preview=None)\n",
    "            return result\n",
    "        \n",
    "        if attri_type == 'inband':\n",
    "            result = ComplexAttributes.instantaneous_bandwidth(x, darray, preview=None)\n",
    "            return result\n",
    "\n",
    "        if attri_type == 'domfreq':\n",
    "            result = ComplexAttributes.dominant_frequency(x, darray, sample_rate=4, preview=None)\n",
    "            return result\n",
    "\n",
    "        if attri_type == 'apolar':\n",
    "            result = ComplexAttributes.apparent_polarity(x, darray, preview=None)\n",
    "            return result\n",
    "\n",
    "        if attri_type == 'resamp':\n",
    "            result = ComplexAttributes.response_amplitude(x, darray, preview=None)\n",
    "            return result\n",
    "\n",
    "        if attri_type == 'resfreq':\n",
    "            result = ComplexAttributes.response_frequency(x, darray, sample_rate=4, preview=None)\n",
    "            return result\n",
    "\n",
    "        if attri_type == 'resphase':\n",
    "            result = ComplexAttributes.response_phase(x, darray, preview=None)\n",
    "            return result\n",
    "        \n",
    "\n",
    "    #First option to generate seismic mask is to cluster into two classes\n",
    "    # def kMeans(attri, nclusters=2):\n",
    "    #     '''\n",
    "    #     To cluster attribute array into horizon/non-horizon  \n",
    "    #     '''\n",
    "    #     from sklearn.cluster import MiniBatchKMeans\n",
    "\n",
    "    #     kmeans = MiniBatchKMeans(n_clusters=nclusters, random_state=0).fit_predict(attri.reshape((-1, 1)))\n",
    "\n",
    "    #     k_pred = kmeans.reshape(*attri.shape)\n",
    "        \n",
    "    #     return k_pred\n",
    "\n",
    "    #Second option is to set a threshold value to cluster the image\n",
    "    def extMask(cube, threshold):\n",
    "    \n",
    "        '''\n",
    "        Extract salt/horizon mask from an attribute cube\n",
    "        '''\n",
    "        # #apply PCA to reduce dimensionality\n",
    "        # from sklearn.decomposition import KernelPCA\n",
    "        # cube = KernelPCA(n_components=2, kernel='rbf').fit_transform(cube.squeeze())\n",
    "        geobody = np.where(cube < threshold, 255, 0).astype('int32') #depends on slice type\n",
    "\n",
    "        return geobody\n",
    "        \n",
    "    '''\n",
    "    Main Program\n",
    "    \n",
    "    '''\n",
    "    ori_image = data.copy()\n",
    "    darray = data\n",
    "\n",
    "    #apply attribute\n",
    "    x, darray, noise_red = makeDask(darray, kernel=kernel, \n",
    "                                    attri_type=attri_type, noise=noise)\n",
    "    darray = darray.rechunk('auto')\n",
    "    result = compute(x, darray, attri_type=attri_type)\n",
    "\n",
    "    #extract mask\n",
    "    attr = result.T #convert dask array attribute to numpy array\n",
    "    mask = extMask(cube=attr, threshold=threshold) #generate horizon masks\n",
    "    \n",
    "    #return result\n",
    "    return ori_image, noise_red, attr, mask"
   ]
  },
  {
   "cell_type": "code",
   "execution_count": 48,
   "metadata": {},
   "outputs": [],
   "source": [
    "def seismicViewer(cube, cube_name):\n",
    "    '''\n",
    "    \n",
    "    helps to preview seismic attribute results,  before extracting the mask patches \n",
    "    '''\n",
    "    from ipywidgets import widgets, interact\n",
    "    import numpy as np\n",
    "    import matplotlib.pyplot as plt\n",
    "    from mpl_toolkits.axes_grid1 import make_axes_locatable\n",
    "                                      \n",
    "    data=cube\n",
    "    image=cube\n",
    "\n",
    "    attributes = ['sweetness', 'infreq', 'reflin', 'rms', 'timegain', 'enve', 'fder', 'sder',\n",
    "                  'gradmag', 'inphase', 'cosphase', 'ampcontrast', 'ampacc', 'inband', 'domfreq',\n",
    "                  'resamp', 'apolar', 'resfreq', 'resphase']\n",
    "\n",
    "    cmap = ['PuOr_r', 'gray', 'cubehelix', 'jet', 'plasma', 'inferno', 'seismic_r', 'gist_rainbow', 'Accent']\n",
    "\n",
    "    noise = ['gaussian', 'median', 'convolution']\n",
    "    \n",
    "    # Interactive plotting\n",
    "    attri_type = widgets.Dropdown(description='Attribute Type', options=attributes)\n",
    "    \n",
    "    cmap_button = widgets.Dropdown(description='Colormaps', options=np.unique(cmap))\n",
    "\n",
    "    noise = widgets.Dropdown(description='Noise Reduction', options=noise)\n",
    "\n",
    "    vmin = widgets.FloatSlider(value=np.amin(data), min=np.amin(data), \n",
    "                             max=np.amax(data))\n",
    "    \n",
    "    vmax = widgets.FloatSlider(value=np.amax(data), min=np.amin(data), \n",
    "                             max=np.amax(data))\n",
    "    \n",
    "    threshold = widgets.FloatSlider(description='Threshold', value=np.amax(data), \n",
    "                                  min=np.amin(data), max=np.amax(data))\n",
    "    \n",
    "    kernel = widgets.Dropdown(description='Kernel', #kernel may chape the shape of the resulting mask, best to leave at None :)\n",
    "                              options=[None, \n",
    "                                       (10, 9, 1),\n",
    "                                        (1, 1, 3),\n",
    "                                        (3, 3, 1),\n",
    "                                        (1, 1, 1)])\n",
    "    \n",
    "    @interact   \n",
    "    def f(attri_type=attri_type, vmin=vmin, vmax=vmax, kernel=kernel, cmap=cmap_button, threshold=threshold, noise=noise):  \n",
    "\n",
    "        ori_image, noise_red, attr, mask = attrComp(data=image, \n",
    "                                                    threshold=threshold, \n",
    "                                                    attri_type=attri_type,\n",
    "                                                    kernel=kernel,\n",
    "                                                    noise=noise)\n",
    "        print(f'Image shape = {ori_image.shape}')\n",
    "        print(f'Mask shape = {mask.shape}')\n",
    "        print(f'Attribute shape = {attr.shape}')\n",
    "\n",
    "        fig, (ax1, ax2, ax3, ax4) = plt.subplots(1, 4, figsize=(30, 10))        \n",
    "        \n",
    "        fig.suptitle(f'Horizon Tracking of 2D Seismic - {cube_name}', size=60)\n",
    "\n",
    "        divider = make_axes_locatable(ax1)\n",
    "        cax = divider.append_axes(\"right\", size=\"2.5%\", pad=0.1)\n",
    "        ax1.set_title('Original Seismic Image', size=20)\n",
    "        im1=ax1.imshow(ori_image, cmap='RdBu')\n",
    "        plt.colorbar(im1, cax=cax)\n",
    "        \n",
    "        divider = make_axes_locatable(ax2)\n",
    "        cax = divider.append_axes(\"right\", size=\"2.5%\", pad=0.1)\n",
    "        ax2.set_title(f'Denoised Seismic Image\\n{noise.upper()}', size=20)\n",
    "        im2=ax2.imshow(noise_red.squeeze(), cmap='gray')\n",
    "        plt.colorbar(im2, cax=cax)\n",
    "        \n",
    "        divider = make_axes_locatable(ax3)\n",
    "        cax = divider.append_axes(\"right\", size=\"2.5%\", pad=0.1)\n",
    "        ax3.set_title(f'Seismic Attribute\\n{attri_type.upper()}', size=20)\n",
    "        im3 = ax3.imshow(attr.squeeze(), cmap=cmap, vmin=vmin, vmax=vmax, interpolation='bicubic')\n",
    "        plt.colorbar(im3, cax=cax)\n",
    "        \n",
    "        divider = make_axes_locatable(ax4)\n",
    "        cax = divider.append_axes(\"right\", size=\"2.5%\", pad=0.1)\n",
    "        ax4.set_title(f'Mask\\nThresh Value={threshold}', size=20)\n",
    "        im4 = ax4.imshow(mask.squeeze(), cmap='gray')\n",
    "        plt.colorbar(im4, cax=cax)\n",
    "\n",
    "        plt.show()\n",
    "        print('*'*120)"
   ]
  },
  {
   "cell_type": "code",
   "execution_count": 49,
   "metadata": {},
   "outputs": [],
   "source": [
    "from pathlib import Path\n",
    "\n",
    "class ExtractPatches(object):\n",
    "    \n",
    "    def __init__(self, imgs_path:Path,  attribute_type:str, threshold=1, kernel=None, noise='gaussian'):\n",
    "        \n",
    "        from pathlib import Path\n",
    "        \n",
    "        self.img_paths = Path(imgs_path)\n",
    "        self.attribute_type = attribute_type\n",
    "        self.threshold = threshold\n",
    "        self.kernel = kernel\n",
    "        self.noise = noise\n",
    "    \n",
    "    def __call__(self, preview, idx=None):\n",
    "        return self.extractPatches(preview=preview, idx=idx)\n",
    "    \n",
    "    def get_image_paths(self):\n",
    "        \n",
    "        from pandas import read_csv, DataFrame\n",
    "        from os import listdir, path\n",
    "        \n",
    "        image_paths = [path.join(self.img_paths,'images', i) for i in listdir(self.img_paths/'images')]\n",
    "        image_names = [i[:-4] for i in listdir(self.img_paths/'images')]\n",
    "        \n",
    "        mask_names = image_names\n",
    "        \n",
    "        data = DataFrame()\n",
    "        data['images'] = image_paths\n",
    "        \n",
    "        return data, mask_names\n",
    "\n",
    "    def read_images(self):\n",
    "        \n",
    "        from torchvision import io\n",
    "\n",
    "        image_df, mask_names = self.get_image_paths()\n",
    "        \n",
    "        images = list()\n",
    "        for idx in image_df.images:\n",
    "            image = io.read_image(str(idx), mode=io.ImageReadMode.GRAY).permute(1, 2, 0).numpy()\n",
    "            images.append(image)\n",
    "        \n",
    "        return images, mask_names\n",
    "    \n",
    "    def run_attribute(self):\n",
    "        \n",
    "        images, mask_names = self.read_images()\n",
    "        \n",
    "        masks = list()\n",
    "        attris = list()\n",
    "        ori_images = list()\n",
    "        noise_reds = list()\n",
    "        \n",
    "        for img in images:\n",
    "            ori_image, noise_red, attr, mask = attrComp(data=img,\n",
    "                                                        attri_type=self.attribute_type,\n",
    "                                                        threshold=self.threshold,\n",
    "                                                        kernel=self.kernel,\n",
    "                                                        noise=self.noise)\n",
    "            \n",
    "            masks.append(mask)\n",
    "            attris.append(attr)\n",
    "            ori_images.append(ori_image)\n",
    "            noise_reds.append(noise_red)\n",
    "\n",
    "        return ori_images, noise_reds, attris, masks, mask_names\n",
    "    \n",
    "    def extractPatches(self, preview, idx=None):\n",
    "        \n",
    "        import numpy as np\n",
    "        from numpngw import write_png\n",
    "        from tqdm.auto import tqdm\n",
    "        from PIL import Image\n",
    "        \n",
    "        ROOT = self.img_paths\n",
    "        images, noise_reds, attris, tmasks, mask_names = self.run_attribute()\n",
    "        \n",
    "        if preview:\n",
    "            assert idx != None, 'idx must be supplied'\n",
    "            for _, i in enumerate(images[:idx]):\n",
    "                \n",
    "                seismicViewer(i, mask_names[_])\n",
    "        else:\n",
    "            try:\n",
    "\n",
    "                masks = 'masks'\n",
    "\n",
    "                if Path(ROOT/masks).exists():\n",
    "                    print(f'{masks} directory already exists! Overwriting....')\n",
    "                else:\n",
    "                    print(f'Creating {masks} directory...')\n",
    "                    Path(ROOT/masks).mkdir()\n",
    "                    \n",
    "            except:\n",
    "                raise Exception('Error creating directories!')\n",
    "\n",
    "            print('='*60)\n",
    "            print('     Masks extraction started!...')\n",
    "            print()\n",
    "            \n",
    "            for mask, maskname in tqdm(zip(tmasks, mask_names)):\n",
    "\n",
    "                shape = (mask.shape[0], mask.shape[1]*mask.shape[2])\n",
    "                \n",
    "                write_png(f'{str(ROOT)}/{masks}/{maskname}'+'.png', \n",
    "                          mask.reshape(shape).astype(np.uint8), bitdepth=1)          \n",
    "            \n",
    "            print('     Masks extraction completed...!')\n",
    "            print('='*60)\n"
   ]
  },
  {
   "cell_type": "code",
   "execution_count": 52,
   "metadata": {},
   "outputs": [],
   "source": [
    "from pathlib import Path\n",
    "\n",
    "path = Path(r\"data/test\")\n",
    "\n",
    "extract = ExtractPatches(path, attribute_type='enve', threshold=0, kernel=None)"
   ]
  },
  {
   "cell_type": "code",
   "execution_count": 53,
   "metadata": {},
   "outputs": [
    {
     "name": "stderr",
     "output_type": "stream",
     "text": [
      "/home/mayorofgeology/.local/lib/python3.10/site-packages/traitlets/traitlets.py:697: FutureWarning: elementwise comparison failed; returning scalar instead, but in the future will perform elementwise comparison\n",
      "  silent = bool(old_value == new_value)\n"
     ]
    },
    {
     "data": {
      "application/vnd.jupyter.widget-view+json": {
       "model_id": "11c9e63f03df47e3be0836ac91457c7b",
       "version_major": 2,
       "version_minor": 0
      },
      "text/plain": [
       "interactive(children=(Dropdown(description='Attribute Type', options=('sweetness', 'infreq', 'reflin', 'rms', …"
      ]
     },
     "metadata": {},
     "output_type": "display_data"
    },
    {
     "name": "stderr",
     "output_type": "stream",
     "text": [
      "/home/mayorofgeology/.local/lib/python3.10/site-packages/traitlets/traitlets.py:697: FutureWarning: elementwise comparison failed; returning scalar instead, but in the future will perform elementwise comparison\n",
      "  silent = bool(old_value == new_value)\n"
     ]
    },
    {
     "data": {
      "application/vnd.jupyter.widget-view+json": {
       "model_id": "2557681eb7ff45e9a6b16f212537e646",
       "version_major": 2,
       "version_minor": 0
      },
      "text/plain": [
       "interactive(children=(Dropdown(description='Attribute Type', options=('sweetness', 'infreq', 'reflin', 'rms', …"
      ]
     },
     "metadata": {},
     "output_type": "display_data"
    },
    {
     "name": "stderr",
     "output_type": "stream",
     "text": [
      "/home/mayorofgeology/.local/lib/python3.10/site-packages/traitlets/traitlets.py:697: FutureWarning: elementwise comparison failed; returning scalar instead, but in the future will perform elementwise comparison\n",
      "  silent = bool(old_value == new_value)\n"
     ]
    },
    {
     "data": {
      "application/vnd.jupyter.widget-view+json": {
       "model_id": "c53db0070d414b5f972b4a71303bdc10",
       "version_major": 2,
       "version_minor": 0
      },
      "text/plain": [
       "interactive(children=(Dropdown(description='Attribute Type', options=('sweetness', 'infreq', 'reflin', 'rms', …"
      ]
     },
     "metadata": {},
     "output_type": "display_data"
    },
    {
     "name": "stderr",
     "output_type": "stream",
     "text": [
      "/home/mayorofgeology/.local/lib/python3.10/site-packages/traitlets/traitlets.py:697: FutureWarning: elementwise comparison failed; returning scalar instead, but in the future will perform elementwise comparison\n",
      "  silent = bool(old_value == new_value)\n"
     ]
    },
    {
     "data": {
      "application/vnd.jupyter.widget-view+json": {
       "model_id": "45bacf9c7a3b42ff8b80afff4a123b70",
       "version_major": 2,
       "version_minor": 0
      },
      "text/plain": [
       "interactive(children=(Dropdown(description='Attribute Type', options=('sweetness', 'infreq', 'reflin', 'rms', …"
      ]
     },
     "metadata": {},
     "output_type": "display_data"
    },
    {
     "name": "stderr",
     "output_type": "stream",
     "text": [
      "/home/mayorofgeology/.local/lib/python3.10/site-packages/traitlets/traitlets.py:697: FutureWarning: elementwise comparison failed; returning scalar instead, but in the future will perform elementwise comparison\n",
      "  silent = bool(old_value == new_value)\n"
     ]
    },
    {
     "data": {
      "application/vnd.jupyter.widget-view+json": {
       "model_id": "c491e5162a9d442c90991c2c0906d492",
       "version_major": 2,
       "version_minor": 0
      },
      "text/plain": [
       "interactive(children=(Dropdown(description='Attribute Type', options=('sweetness', 'infreq', 'reflin', 'rms', …"
      ]
     },
     "metadata": {},
     "output_type": "display_data"
    },
    {
     "name": "stderr",
     "output_type": "stream",
     "text": [
      "/home/mayorofgeology/.local/lib/python3.10/site-packages/traitlets/traitlets.py:697: FutureWarning: elementwise comparison failed; returning scalar instead, but in the future will perform elementwise comparison\n",
      "  silent = bool(old_value == new_value)\n"
     ]
    },
    {
     "data": {
      "application/vnd.jupyter.widget-view+json": {
       "model_id": "91961cfbb86c464991bfd9c58cd8c466",
       "version_major": 2,
       "version_minor": 0
      },
      "text/plain": [
       "interactive(children=(Dropdown(description='Attribute Type', options=('sweetness', 'infreq', 'reflin', 'rms', …"
      ]
     },
     "metadata": {},
     "output_type": "display_data"
    },
    {
     "name": "stderr",
     "output_type": "stream",
     "text": [
      "/home/mayorofgeology/.local/lib/python3.10/site-packages/traitlets/traitlets.py:697: FutureWarning: elementwise comparison failed; returning scalar instead, but in the future will perform elementwise comparison\n",
      "  silent = bool(old_value == new_value)\n"
     ]
    },
    {
     "data": {
      "application/vnd.jupyter.widget-view+json": {
       "model_id": "1845bb835b884b8cbbf879824b46f60f",
       "version_major": 2,
       "version_minor": 0
      },
      "text/plain": [
       "interactive(children=(Dropdown(description='Attribute Type', options=('sweetness', 'infreq', 'reflin', 'rms', …"
      ]
     },
     "metadata": {},
     "output_type": "display_data"
    },
    {
     "name": "stderr",
     "output_type": "stream",
     "text": [
      "/home/mayorofgeology/.local/lib/python3.10/site-packages/traitlets/traitlets.py:697: FutureWarning: elementwise comparison failed; returning scalar instead, but in the future will perform elementwise comparison\n",
      "  silent = bool(old_value == new_value)\n"
     ]
    },
    {
     "data": {
      "application/vnd.jupyter.widget-view+json": {
       "model_id": "277cc4ee8541427b84d5893394d38177",
       "version_major": 2,
       "version_minor": 0
      },
      "text/plain": [
       "interactive(children=(Dropdown(description='Attribute Type', options=('sweetness', 'infreq', 'reflin', 'rms', …"
      ]
     },
     "metadata": {},
     "output_type": "display_data"
    },
    {
     "name": "stderr",
     "output_type": "stream",
     "text": [
      "/home/mayorofgeology/.local/lib/python3.10/site-packages/traitlets/traitlets.py:697: FutureWarning: elementwise comparison failed; returning scalar instead, but in the future will perform elementwise comparison\n",
      "  silent = bool(old_value == new_value)\n"
     ]
    },
    {
     "data": {
      "application/vnd.jupyter.widget-view+json": {
       "model_id": "03f869aed7744415b9c2fda1686a76f7",
       "version_major": 2,
       "version_minor": 0
      },
      "text/plain": [
       "interactive(children=(Dropdown(description='Attribute Type', options=('sweetness', 'infreq', 'reflin', 'rms', …"
      ]
     },
     "metadata": {},
     "output_type": "display_data"
    },
    {
     "name": "stderr",
     "output_type": "stream",
     "text": [
      "/home/mayorofgeology/.local/lib/python3.10/site-packages/traitlets/traitlets.py:697: FutureWarning: elementwise comparison failed; returning scalar instead, but in the future will perform elementwise comparison\n",
      "  silent = bool(old_value == new_value)\n"
     ]
    },
    {
     "data": {
      "application/vnd.jupyter.widget-view+json": {
       "model_id": "b74f722a80fa4ef8972d12285e76b156",
       "version_major": 2,
       "version_minor": 0
      },
      "text/plain": [
       "interactive(children=(Dropdown(description='Attribute Type', options=('sweetness', 'infreq', 'reflin', 'rms', …"
      ]
     },
     "metadata": {},
     "output_type": "display_data"
    }
   ],
   "source": [
    "extract(preview=True, idx=10)"
   ]
  },
  {
   "cell_type": "code",
   "execution_count": 45,
   "metadata": {},
   "outputs": [
    {
     "name": "stdout",
     "output_type": "stream",
     "text": [
      "masks directory already exists! Overwriting....\n",
      "============================================================\n",
      "     Masks extraction started!...\n",
      "\n"
     ]
    },
    {
     "data": {
      "application/vnd.jupyter.widget-view+json": {
       "model_id": "3d6c309facbf413881f12ebde0f76321",
       "version_major": 2,
       "version_minor": 0
      },
      "text/plain": [
       "0it [00:00, ?it/s]"
      ]
     },
     "metadata": {},
     "output_type": "display_data"
    },
    {
     "name": "stdout",
     "output_type": "stream",
     "text": [
      "     Masks extraction completed...!\n",
      "============================================================\n"
     ]
    }
   ],
   "source": [
    "extract(preview=False)"
   ]
  },
  {
   "cell_type": "code",
   "execution_count": 42,
   "metadata": {},
   "outputs": [
    {
     "name": "stderr",
     "output_type": "stream",
     "text": [
      "/home/mayorofgeology/.local/lib/python3.10/site-packages/traitlets/traitlets.py:697: FutureWarning: elementwise comparison failed; returning scalar instead, but in the future will perform elementwise comparison\n",
      "  silent = bool(old_value == new_value)\n"
     ]
    },
    {
     "data": {
      "application/vnd.jupyter.widget-view+json": {
       "model_id": "78465878b8fe4d0d8c8303a5aeaa16a7",
       "version_major": 2,
       "version_minor": 0
      },
      "text/plain": [
       "interactive(children=(Dropdown(description='Attribute Type', options=('sweetness', 'infreq', 'reflin', 'rms', …"
      ]
     },
     "metadata": {},
     "output_type": "display_data"
    }
   ],
   "source": [
    "from torchvision import io\n",
    "img = io.read_image('data/image.png',\n",
    "                     mode=io.ImageReadMode.GRAY).permute(1, 2, 0).numpy()\n",
    "\n",
    "seismicViewer(img, 'Inline 70')"
   ]
  },
  {
   "cell_type": "code",
   "execution_count": 39,
   "metadata": {},
   "outputs": [
    {
     "data": {
      "text/plain": [
       "<matplotlib.image.AxesImage at 0x7fabb4172dd0>"
      ]
     },
     "execution_count": 39,
     "metadata": {},
     "output_type": "execute_result"
    },
    {
     "data": {
      "image/png": "[encoded data removed]",
      "text/plain": [
       "<Figure size 640x480 with 1 Axes>"
      ]
     },
     "metadata": {},
     "output_type": "display_data"
    }
   ],
   "source": [
    "import numpy as np\n",
    "import matplotlib.pyplot as plt\n",
    "from PIL import Image\n",
    "mask = np.array(Image.open('data/test/masks/wzmiuvv4j5tyx9u2w21h.png'))\n",
    "image = np.array(Image.open('data/test/images/wzmiuvv4j5tyx9u2w21h.png'))\n",
    "\n",
    "mask = np.ma.masked_where(mask==0, mask)\n",
    "plt.imshow(image)\n",
    "plt.imshow(mask, cmap='inferno', alpha=1.)"
   ]
  }
 ],
 "metadata": {
  "kernelspec": {
   "display_name": "Python 3",
   "language": "python",
   "name": "python3"
  },
  "language_info": {
   "codemirror_mode": {
    "name": "ipython",
    "version": 3
   },
   "file_extension": ".py",
   "mimetype": "text/x-python",
   "name": "python",
   "nbconvert_exporter": "python",
   "pygments_lexer": "ipython3",
   "version": "3.10.6"
  },
  "orig_nbformat": 4
 },
 "nbformat": 4,
 "nbformat_minor": 2
}
