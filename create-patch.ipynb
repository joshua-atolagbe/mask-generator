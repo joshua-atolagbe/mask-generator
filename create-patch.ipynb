{
 "cells": [
  {
   "attachments": {},
   "cell_type": "markdown",
   "metadata": {},
   "source": [
    "# Seismic Attributes for creating masks"
   ]
  },
  {
   "cell_type": "code",
   "execution_count": 1,
   "metadata": {},
   "outputs": [
    {
     "data": {
      "application/vnd.jupyter.widget-view+json": {
       "model_id": "2e49a8a5f2584f27aded377230bfb0ab",
       "version_major": 2,
       "version_minor": 0
      },
      "text/plain": [
       "interactive(children=(Dropdown(description='Attribute', options=('sweetness', 'infreq', 'reflin', 'rms', 'time…"
      ]
     },
     "metadata": {},
     "output_type": "display_data"
    }
   ],
   "source": [
    "from scripts.extract import ExtractPatches\n",
    "from pathlib import Path\n",
    "\n",
    "path = Path(r\"data\")\n",
    "\n",
    "# Create an ExtractPatches object and parse the data dir.\n",
    "# Set preview to True to determine the optimal parameters\n",
    "# for creating seismic masks before extraction.\n",
    "\n",
    "extract = ExtractPatches(path)\n",
    "\n",
    "extract(preview=True, idx=1)"
   ]
  },
  {
   "cell_type": "code",
   "execution_count": 2,
   "metadata": {},
   "outputs": [
    {
     "name": "stdout",
     "output_type": "stream",
     "text": [
      "Creating masks directory...\n",
      "============================================================\n",
      "     Masks extraction started!...\n",
      "\n"
     ]
    },
    {
     "data": {
      "application/vnd.jupyter.widget-view+json": {
       "model_id": "a904678d431a45ca90a8f4eb6b2d80d0",
       "version_major": 2,
       "version_minor": 0
      },
      "text/plain": [
       "0it [00:00, ?it/s]"
      ]
     },
     "metadata": {},
     "output_type": "display_data"
    },
    {
     "name": "stdout",
     "output_type": "stream",
     "text": [
      "     Masks extraction completed...!\n",
      "============================================================\n"
     ]
    }
   ],
   "source": [
    "# Next, create an ExtractPatches object with the optimal parameters\n",
    "# from the preview option above.\n",
    "# For salt mask, the optimal parameters are {'attri_type':'resfreq', 'threshold':0.8}.\n",
    "# Other parameters are left constant.\n",
    "# Then call the ExtractPatches object and set preview to False to extract seismic mask patches \n",
    "\n",
    "extract = ExtractPatches(path, attribute_type='resfreq', threshold=0.8) \n",
    "\n",
    "extract(preview=False)"
   ]
  }
 ],
 "metadata": {
  "kernelspec": {
   "display_name": "Python 3",
   "language": "python",
   "name": "python3"
  },
  "language_info": {
   "codemirror_mode": {
    "name": "ipython",
    "version": 3
   },
   "file_extension": ".py",
   "mimetype": "text/x-python",
   "name": "python",
   "nbconvert_exporter": "python",
   "pygments_lexer": "ipython3",
   "version": "3.10.6"
  },
  "orig_nbformat": 4
 },
 "nbformat": 4,
 "nbformat_minor": 2
}
